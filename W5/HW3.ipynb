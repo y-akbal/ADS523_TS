{
  "cells": [
    {
      "cell_type": "markdown",
      "metadata": {
        "id": "tC7K0tgoa59g"
      },
      "source": [
        "[![Open in Colab](https://colab.research.google.com/assets/colab-badge.svg)](https://colab.research.google.com/github/y-akbal/ADS523_TS/blob/main/W5/HW3.ipynb)"
      ]
    },
    {
      "cell_type": "markdown",
      "metadata": {
        "id": "O1kbL42aiH5-"
      },
      "source": [
        "###Run the below cells, there are some functions to be used!"
      ]
    },
    {
      "cell_type": "code",
      "execution_count": null,
      "metadata": {
        "id": "lAomyHkC4vQW"
      },
      "outputs": [],
      "source": [
        "import numpy as np\n",
        "import scipy as sp\n",
        "import statsmodels\n",
        "import pandas as pd\n",
        "from matplotlib import pyplot as plt"
      ]
    },
    {
      "cell_type": "code",
      "execution_count": null,
      "metadata": {
        "id": "s47pX0whIACg"
      },
      "outputs": [],
      "source": [
        "!apt-get install r-base\n",
        "!pip install rpy2\n",
        "###Above we are pip installing a bridge between r and pyhton\n",
        "import rpy2 # import rpy2's package module\n",
        "from rpy2.robjects.packages import importr\n",
        "utils = importr('utils')\n",
        "import rpy2.robjects.packages as rpackages\n",
        "utils.install_packages(\"TSA\")\n",
        "# import R's utility package\n",
        "utils = rpackages.importr('TSA')  ### Time series analysis lib. is to be imported\n",
        "import rpy2.robjects as robjects\n",
        "r = robjects.r\n",
        "from rpy2.robjects import r, pandas2ri\n",
        "pandas2ri.activate()"
      ]
    },
    {
      "cell_type": "markdown",
      "metadata": {
        "id": "ocuI7iKYX3vj"
      },
      "source": [
        "#The following function downloads the data set that you will experiment with! The file will be downloaded directly as a csv file, so you do not need call any other function except pd.read_csv (google this)."
      ]
    },
    {
      "cell_type": "code",
      "execution_count": null,
      "metadata": {
        "id": "3eRzVAZ5a1jm"
      },
      "outputs": [],
      "source": [
        "def download_ts():  ### This dude will download the dataset from the directory directly!\n",
        "  import requests\n",
        "  url = \"https://raw.githubusercontent.com/y-akbal/Tedu_Time_Series/main/W5/data_setforHW3.csv\"\n",
        "  res = requests.get(url, allow_redirects=True)\n",
        "  with open('data_setforHW3.csv','wb') as file:\n",
        "    file.write(res.content)\n",
        "  print(\"Dataset downloaded!\")\n",
        "download_ts()"
      ]
    },
    {
      "cell_type": "code",
      "execution_count": null,
      "metadata": {
        "id": "P7JQ_jlRa1oE"
      },
      "outputs": [],
      "source": [
        "data = pd.read_csv(\"data_setforHW3.csv\")  #### do not forget to pick the right column here! hint: iloc"
      ]
    },
    {
      "cell_type": "code",
      "execution_count": null,
      "metadata": {
        "id": "M1KLDqMFgAT-"
      },
      "outputs": [],
      "source": [
        "def see_significance_values(x = m): ### we will use this function for illustration purpossses.\n",
        "  print(pd.DataFrame(np.array(list(x.items())[0][1])))"
      ]
    },
    {
      "cell_type": "markdown",
      "metadata": {
        "id": "SGp8Bp92YFGZ"
      },
      "source": [
        "#Things to do:\n",
        "\n",
        "1.   Sketch the series, and see if something is wrong use: plt.plot,\n",
        "2.   Use extended autocorrelation function to see which orders of AR and MA you will pick.  For this you need to look at last week's lab files to sketch eacf table. Examine eacf table carefully!, call your extended autocorrelation function m as we did in labs, and call the function see_significance_values(m), to do comparison.\n",
        "3. Fit the model with the ar-ma orders that you come up with. \n",
        "4. Justify your answer by a) comparing in sample predictions and the real time series  b) performing Ljhung-Box test the see if residuals exhibit some serial correlation (do not forget to set model_df = ar_order + ma_order that you have picked!)."
      ]
    },
    {
      "cell_type": "code",
      "execution_count": null,
      "metadata": {
        "id": "tYQ_pCbwgyZk"
      },
      "outputs": [],
      "source": [
        "####Do your HW here!"
      ]
    },
    {
      "cell_type": "markdown",
      "metadata": {
        "id": "R8wEkiWlhcJY"
      },
      "source": [
        "###Congrats!!!, you reached the end of HW3, now go to File-> Download -> Download .ipynb.\n",
        "##Save the file and upload it to LMS system. Grab a cup of coffee, and do some la dolce vita."
      ]
    }
  ],
  "metadata": {
    "colab": {
      "collapsed_sections": [],
      "provenance": []
    },
    "kernelspec": {
      "display_name": "Python 3",
      "name": "python3"
    },
    "language_info": {
      "name": "python"
    }
  },
  "nbformat": 4,
  "nbformat_minor": 0
}
