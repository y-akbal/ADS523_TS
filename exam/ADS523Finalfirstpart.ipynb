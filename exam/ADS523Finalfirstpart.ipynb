{
 "cells": [
  {
   "cell_type": "markdown",
   "metadata": {
    "id": "hpm70brUdWfZ"
   },
   "source": [
    "[![Open in Colab](https://colab.research.google.com/assets/colab-badge.svg)](https://colab.research.google.com/github/y-akbal/ADS_523_TS/blob/main/exam/ADS523Finalfirstpart.ipynb)"
   ]
  },
  {
   "cell_type": "code",
   "execution_count": 1,
   "metadata": {
    "executionInfo": {
     "elapsed": 951,
     "status": "ok",
     "timestamp": 1673017904902,
     "user": {
      "displayName": "Yildirim Akbal",
      "userId": "06267569241271520750"
     },
     "user_tz": -180
    },
    "id": "SyUQ7Heg7ImF"
   },
   "outputs": [],
   "source": [
    "import os\n",
    "import matplotlib.pyplot as plt\n",
    "import sklearn\n",
    "import numpy as np\n",
    "import pandas as pd\n",
    "import statsmodels     \n",
    "import requests"
   ]
  },
  {
   "cell_type": "code",
   "execution_count": 2,
   "metadata": {
    "executionInfo": {
     "elapsed": 10,
     "status": "ok",
     "timestamp": 1673017904904,
     "user": {
      "displayName": "Yildirim Akbal",
      "userId": "06267569241271520750"
     },
     "user_tz": -180
    },
    "id": "mwpMhVBl7_Z4"
   },
   "outputs": [],
   "source": [
    "def download_data():  ### This dude will download the dataset from the directory directly!\n",
    "    url = \"https://raw.githubusercontent.com/y-akbal/ADS523_TS/main/exam/tsfinal01_.csv\"\n",
    "    res = requests.get(url, allow_redirects=True)\n",
    "    with open('tsfinal01_.csv','wb') as file:\n",
    "    file.write(res.content)\n",
    "\n",
    "download_data()"
   ]
  },
  {
   "cell_type": "code",
   "execution_count": 3,
   "metadata": {
    "executionInfo": {
     "elapsed": 589,
     "status": "ok",
     "timestamp": 1673017923220,
     "user": {
      "displayName": "Yildirim Akbal",
      "userId": "06267569241271520750"
     },
     "user_tz": -180
    },
    "id": "gU8Eib2p2oYT"
   },
   "outputs": [],
   "source": [
    "data = pd.read_csv(\"tsfinal01_.csv\").iloc[:, -1]"
   ]
  }
 ],
 "metadata": {
  "colab": {
   "authorship_tag": "ABX9TyOQvDnbQMWhKeqAi9DMmvfV",
   "provenance": []
  },
  "kernelspec": {
   "display_name": "Python 3 (ipykernel)",
   "language": "python",
   "name": "python3"
  },
  "language_info": {
   "codemirror_mode": {
    "name": "ipython",
    "version": 3
   },
   "file_extension": ".py",
   "mimetype": "text/x-python",
   "name": "python",
   "nbconvert_exporter": "python",
   "pygments_lexer": "ipython3",
   "version": "3.10.12"
  }
 },
 "nbformat": 4,
 "nbformat_minor": 1
}
