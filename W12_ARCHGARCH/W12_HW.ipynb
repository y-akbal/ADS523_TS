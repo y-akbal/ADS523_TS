{
 "cells": [
  {
   "cell_type": "markdown",
   "metadata": {
    "id": "hIi4f8F27UMu"
   },
   "source": [
    "\n",
    "[![Open in Colab](https://colab.research.google.com/assets/colab-badge.svg)](https://colab.research.google.com/github/y-akbal/ADS523_TS/blob/main/W12_ARCHGARCH/W12_HW.ipynb)\n"
   ]
  },
  {
   "cell_type": "code",
   "execution_count": 2,
   "metadata": {
    "id": "4o7xJtGSZf-s"
   },
   "outputs": [],
   "source": [
    "import os\n",
    "import seaborn as sns\n",
    "import matplotlib.pyplot as plt\n",
    "import numpy as np\n",
    "import pandas as pd\n",
    "import statsmodels\n",
    "import scipy"
   ]
  },
  {
   "cell_type": "code",
   "execution_count": null,
   "metadata": {},
   "outputs": [],
   "source": [
    "#!pip install yfinance ## install this if needed!\n",
    "import yfinance as yf\n",
    "sp = yf.download('^GSPC')['Adj Close']  ## Adjusted Close for the S&P 500 from 1927 to 2023 "
   ]
  },
  {
   "cell_type": "markdown",
   "metadata": {
    "id": "I1530rqg3OUM"
   },
   "source": [
    "Things to do\n",
    "\n",
    "0.   Read the csv file. \"pd.read_csv\"\n",
    "1.   See what kind of TS you are dealing with,\n",
    "2.   Fit some ARIMA model after detrendizing it via percentage change -- https://pandas.pydata.org/docs/reference/api/pandas.Series.pct_change.html\n",
    "4.   Look at the residuals, see if  you fit the right model,\n",
    "5.   Once you convince yourself, then make sure that there is an ARCH effect,\n",
    "6.   Fit then an ARCH or GARCH model, to your data, determine the orders,\n",
    "7.   Check the standardized residuals to see if you have fitted the right model.  TO do this, look at QQ plots, or maybe sketch some histograms."
   ]
  }
 ],
 "metadata": {
  "colab": {
   "authorship_tag": "ABX9TyNWy7j5LPRU8Wmjrs6RKdNu",
   "provenance": []
  },
  "kernelspec": {
   "display_name": "Python 3 (ipykernel)",
   "language": "python",
   "name": "python3"
  },
  "language_info": {
   "codemirror_mode": {
    "name": "ipython",
    "version": 3
   },
   "file_extension": ".py",
   "mimetype": "text/x-python",
   "name": "python",
   "nbconvert_exporter": "python",
   "pygments_lexer": "ipython3",
   "version": "3.11.7"
  }
 },
 "nbformat": 4,
 "nbformat_minor": 4
}
